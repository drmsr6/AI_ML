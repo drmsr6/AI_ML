{
  "nbformat": 4,
  "nbformat_minor": 0,
  "metadata": {
    "colab": {
      "provenance": []
    },
    "kernelspec": {
      "name": "python3",
      "display_name": "Python 3"
    },
    "language_info": {
      "name": "python"
    }
  },
  "cells": [
    {
      "cell_type": "markdown",
      "source": [
        "**Objective**\n",
        "To understand the usage pattern of shopping mall with the help of k-means clustering .\n",
        "The spatial usage pattern depends on number of factors\n",
        "Location (latitude, longitude) & Usage Pattern (sales volume, footfall, visit frequency, etc.) influenced by relatime factors.\n",
        "KMeans would naturally group similar stores together based on behavioral or business attributes.In this notebook we tried to use fictius mall data by following below steps:\n",
        "\n",
        "Collect Store Data\n",
        "    ↓\n",
        "Engineer Features (type, revenue, footfall, peak times)\n",
        "    ↓\n",
        "Standardize / Normalize Features\n",
        "    ↓\n",
        "Apply K-Means Clustering\n",
        "    ↓\n",
        "Assign Zones to Each Cluster\n",
        "    ↓\n",
        "Mall Layout Planning based on clusters\n",
        "\n"
      ],
      "metadata": {
        "id": "-K6utZcxSDPZ"
      }
    },
    {
      "cell_type": "code",
      "execution_count": 1,
      "metadata": {
        "id": "4mX68WFYeBzO"
      },
      "outputs": [],
      "source": [
        "# Install necessary packages\n",
        "!pip install -q seaborn"
      ]
    },
    {
      "cell_type": "code",
      "source": [
        "# Import libraries\n",
        "import numpy as np\n",
        "import pandas as pd\n",
        "import matplotlib.pyplot as plt\n",
        "import seaborn as sns\n",
        "from sklearn.preprocessing import StandardScaler\n",
        "from sklearn.cluster import KMeans"
      ],
      "metadata": {
        "id": "QXZalipCe90g"
      },
      "execution_count": 2,
      "outputs": []
    },
    {
      "cell_type": "code",
      "source": [
        "# Step 1: Create Fake Mall Store Data\n",
        "np.random.seed(42)\n",
        "n_stores = 80"
      ],
      "metadata": {
        "id": "VrOgmXUEfC5D"
      },
      "execution_count": 4,
      "outputs": []
    },
    {
      "cell_type": "code",
      "source": [
        "# Store Types (simulated)\n",
        "store_types = np.random.choice(\n",
        "    ['Clothing', 'Food', 'Electronics', 'Kids', 'Entertainment', 'Beauty'],\n",
        "    size=n_stores\n",
        ")"
      ],
      "metadata": {
        "id": "JusdHdBofM6o"
      },
      "execution_count": 5,
      "outputs": []
    },
    {
      "cell_type": "code",
      "source": [
        "# Simulated features\n",
        "revenue = np.random.randint(50000, 500000, size=n_stores)  # Monthly revenue\n",
        "footfall = np.random.randint(500, 10000, size=n_stores)    # Monthly footfall\n",
        "avg_purchase_value = np.random.randint(200, 3000, size=n_stores)  # Avg purchase\n",
        "\n",
        "# Store DataFrame\n",
        "mall_data = pd.DataFrame({\n",
        "    'Store_ID': range(1, n_stores + 1),\n",
        "    'Store_Type': store_types,\n",
        "    'Monthly_Revenue': revenue,\n",
        "    'Monthly_Footfall': footfall,\n",
        "    'Avg_Purchase_Value': avg_purchase_value\n",
        "})\n",
        "\n",
        "mall_data.head()"
      ],
      "metadata": {
        "colab": {
          "base_uri": "https://localhost:8080/",
          "height": 206
        },
        "id": "788v5Utbfd2F",
        "outputId": "909d9634-cea0-4423-df97-38ad2c5a6ff6"
      },
      "execution_count": 6,
      "outputs": [
        {
          "output_type": "execute_result",
          "data": {
            "text/plain": [
              "   Store_ID     Store_Type  Monthly_Revenue  Monthly_Footfall  \\\n",
              "0         1           Kids            87065              7908   \n",
              "1         2  Entertainment           273165              9255   \n",
              "2         3    Electronics           149299              5616   \n",
              "3         4  Entertainment           475822              6519   \n",
              "4         5  Entertainment            61534              2257   \n",
              "\n",
              "   Avg_Purchase_Value  \n",
              "0                1569  \n",
              "1                2186  \n",
              "2                1734  \n",
              "3                 346  \n",
              "4                1934  "
            ],
            "text/html": [
              "\n",
              "  <div id=\"df-42ea3e38-89fb-4e45-8b10-334d1262ed5d\" class=\"colab-df-container\">\n",
              "    <div>\n",
              "<style scoped>\n",
              "    .dataframe tbody tr th:only-of-type {\n",
              "        vertical-align: middle;\n",
              "    }\n",
              "\n",
              "    .dataframe tbody tr th {\n",
              "        vertical-align: top;\n",
              "    }\n",
              "\n",
              "    .dataframe thead th {\n",
              "        text-align: right;\n",
              "    }\n",
              "</style>\n",
              "<table border=\"1\" class=\"dataframe\">\n",
              "  <thead>\n",
              "    <tr style=\"text-align: right;\">\n",
              "      <th></th>\n",
              "      <th>Store_ID</th>\n",
              "      <th>Store_Type</th>\n",
              "      <th>Monthly_Revenue</th>\n",
              "      <th>Monthly_Footfall</th>\n",
              "      <th>Avg_Purchase_Value</th>\n",
              "    </tr>\n",
              "  </thead>\n",
              "  <tbody>\n",
              "    <tr>\n",
              "      <th>0</th>\n",
              "      <td>1</td>\n",
              "      <td>Kids</td>\n",
              "      <td>87065</td>\n",
              "      <td>7908</td>\n",
              "      <td>1569</td>\n",
              "    </tr>\n",
              "    <tr>\n",
              "      <th>1</th>\n",
              "      <td>2</td>\n",
              "      <td>Entertainment</td>\n",
              "      <td>273165</td>\n",
              "      <td>9255</td>\n",
              "      <td>2186</td>\n",
              "    </tr>\n",
              "    <tr>\n",
              "      <th>2</th>\n",
              "      <td>3</td>\n",
              "      <td>Electronics</td>\n",
              "      <td>149299</td>\n",
              "      <td>5616</td>\n",
              "      <td>1734</td>\n",
              "    </tr>\n",
              "    <tr>\n",
              "      <th>3</th>\n",
              "      <td>4</td>\n",
              "      <td>Entertainment</td>\n",
              "      <td>475822</td>\n",
              "      <td>6519</td>\n",
              "      <td>346</td>\n",
              "    </tr>\n",
              "    <tr>\n",
              "      <th>4</th>\n",
              "      <td>5</td>\n",
              "      <td>Entertainment</td>\n",
              "      <td>61534</td>\n",
              "      <td>2257</td>\n",
              "      <td>1934</td>\n",
              "    </tr>\n",
              "  </tbody>\n",
              "</table>\n",
              "</div>\n",
              "    <div class=\"colab-df-buttons\">\n",
              "\n",
              "  <div class=\"colab-df-container\">\n",
              "    <button class=\"colab-df-convert\" onclick=\"convertToInteractive('df-42ea3e38-89fb-4e45-8b10-334d1262ed5d')\"\n",
              "            title=\"Convert this dataframe to an interactive table.\"\n",
              "            style=\"display:none;\">\n",
              "\n",
              "  <svg xmlns=\"http://www.w3.org/2000/svg\" height=\"24px\" viewBox=\"0 -960 960 960\">\n",
              "    <path d=\"M120-120v-720h720v720H120Zm60-500h600v-160H180v160Zm220 220h160v-160H400v160Zm0 220h160v-160H400v160ZM180-400h160v-160H180v160Zm440 0h160v-160H620v160ZM180-180h160v-160H180v160Zm440 0h160v-160H620v160Z\"/>\n",
              "  </svg>\n",
              "    </button>\n",
              "\n",
              "  <style>\n",
              "    .colab-df-container {\n",
              "      display:flex;\n",
              "      gap: 12px;\n",
              "    }\n",
              "\n",
              "    .colab-df-convert {\n",
              "      background-color: #E8F0FE;\n",
              "      border: none;\n",
              "      border-radius: 50%;\n",
              "      cursor: pointer;\n",
              "      display: none;\n",
              "      fill: #1967D2;\n",
              "      height: 32px;\n",
              "      padding: 0 0 0 0;\n",
              "      width: 32px;\n",
              "    }\n",
              "\n",
              "    .colab-df-convert:hover {\n",
              "      background-color: #E2EBFA;\n",
              "      box-shadow: 0px 1px 2px rgba(60, 64, 67, 0.3), 0px 1px 3px 1px rgba(60, 64, 67, 0.15);\n",
              "      fill: #174EA6;\n",
              "    }\n",
              "\n",
              "    .colab-df-buttons div {\n",
              "      margin-bottom: 4px;\n",
              "    }\n",
              "\n",
              "    [theme=dark] .colab-df-convert {\n",
              "      background-color: #3B4455;\n",
              "      fill: #D2E3FC;\n",
              "    }\n",
              "\n",
              "    [theme=dark] .colab-df-convert:hover {\n",
              "      background-color: #434B5C;\n",
              "      box-shadow: 0px 1px 3px 1px rgba(0, 0, 0, 0.15);\n",
              "      filter: drop-shadow(0px 1px 2px rgba(0, 0, 0, 0.3));\n",
              "      fill: #FFFFFF;\n",
              "    }\n",
              "  </style>\n",
              "\n",
              "    <script>\n",
              "      const buttonEl =\n",
              "        document.querySelector('#df-42ea3e38-89fb-4e45-8b10-334d1262ed5d button.colab-df-convert');\n",
              "      buttonEl.style.display =\n",
              "        google.colab.kernel.accessAllowed ? 'block' : 'none';\n",
              "\n",
              "      async function convertToInteractive(key) {\n",
              "        const element = document.querySelector('#df-42ea3e38-89fb-4e45-8b10-334d1262ed5d');\n",
              "        const dataTable =\n",
              "          await google.colab.kernel.invokeFunction('convertToInteractive',\n",
              "                                                    [key], {});\n",
              "        if (!dataTable) return;\n",
              "\n",
              "        const docLinkHtml = 'Like what you see? Visit the ' +\n",
              "          '<a target=\"_blank\" href=https://colab.research.google.com/notebooks/data_table.ipynb>data table notebook</a>'\n",
              "          + ' to learn more about interactive tables.';\n",
              "        element.innerHTML = '';\n",
              "        dataTable['output_type'] = 'display_data';\n",
              "        await google.colab.output.renderOutput(dataTable, element);\n",
              "        const docLink = document.createElement('div');\n",
              "        docLink.innerHTML = docLinkHtml;\n",
              "        element.appendChild(docLink);\n",
              "      }\n",
              "    </script>\n",
              "  </div>\n",
              "\n",
              "\n",
              "    <div id=\"df-7187838b-b1d2-4456-8211-f80e0332b16e\">\n",
              "      <button class=\"colab-df-quickchart\" onclick=\"quickchart('df-7187838b-b1d2-4456-8211-f80e0332b16e')\"\n",
              "                title=\"Suggest charts\"\n",
              "                style=\"display:none;\">\n",
              "\n",
              "<svg xmlns=\"http://www.w3.org/2000/svg\" height=\"24px\"viewBox=\"0 0 24 24\"\n",
              "     width=\"24px\">\n",
              "    <g>\n",
              "        <path d=\"M19 3H5c-1.1 0-2 .9-2 2v14c0 1.1.9 2 2 2h14c1.1 0 2-.9 2-2V5c0-1.1-.9-2-2-2zM9 17H7v-7h2v7zm4 0h-2V7h2v10zm4 0h-2v-4h2v4z\"/>\n",
              "    </g>\n",
              "</svg>\n",
              "      </button>\n",
              "\n",
              "<style>\n",
              "  .colab-df-quickchart {\n",
              "      --bg-color: #E8F0FE;\n",
              "      --fill-color: #1967D2;\n",
              "      --hover-bg-color: #E2EBFA;\n",
              "      --hover-fill-color: #174EA6;\n",
              "      --disabled-fill-color: #AAA;\n",
              "      --disabled-bg-color: #DDD;\n",
              "  }\n",
              "\n",
              "  [theme=dark] .colab-df-quickchart {\n",
              "      --bg-color: #3B4455;\n",
              "      --fill-color: #D2E3FC;\n",
              "      --hover-bg-color: #434B5C;\n",
              "      --hover-fill-color: #FFFFFF;\n",
              "      --disabled-bg-color: #3B4455;\n",
              "      --disabled-fill-color: #666;\n",
              "  }\n",
              "\n",
              "  .colab-df-quickchart {\n",
              "    background-color: var(--bg-color);\n",
              "    border: none;\n",
              "    border-radius: 50%;\n",
              "    cursor: pointer;\n",
              "    display: none;\n",
              "    fill: var(--fill-color);\n",
              "    height: 32px;\n",
              "    padding: 0;\n",
              "    width: 32px;\n",
              "  }\n",
              "\n",
              "  .colab-df-quickchart:hover {\n",
              "    background-color: var(--hover-bg-color);\n",
              "    box-shadow: 0 1px 2px rgba(60, 64, 67, 0.3), 0 1px 3px 1px rgba(60, 64, 67, 0.15);\n",
              "    fill: var(--button-hover-fill-color);\n",
              "  }\n",
              "\n",
              "  .colab-df-quickchart-complete:disabled,\n",
              "  .colab-df-quickchart-complete:disabled:hover {\n",
              "    background-color: var(--disabled-bg-color);\n",
              "    fill: var(--disabled-fill-color);\n",
              "    box-shadow: none;\n",
              "  }\n",
              "\n",
              "  .colab-df-spinner {\n",
              "    border: 2px solid var(--fill-color);\n",
              "    border-color: transparent;\n",
              "    border-bottom-color: var(--fill-color);\n",
              "    animation:\n",
              "      spin 1s steps(1) infinite;\n",
              "  }\n",
              "\n",
              "  @keyframes spin {\n",
              "    0% {\n",
              "      border-color: transparent;\n",
              "      border-bottom-color: var(--fill-color);\n",
              "      border-left-color: var(--fill-color);\n",
              "    }\n",
              "    20% {\n",
              "      border-color: transparent;\n",
              "      border-left-color: var(--fill-color);\n",
              "      border-top-color: var(--fill-color);\n",
              "    }\n",
              "    30% {\n",
              "      border-color: transparent;\n",
              "      border-left-color: var(--fill-color);\n",
              "      border-top-color: var(--fill-color);\n",
              "      border-right-color: var(--fill-color);\n",
              "    }\n",
              "    40% {\n",
              "      border-color: transparent;\n",
              "      border-right-color: var(--fill-color);\n",
              "      border-top-color: var(--fill-color);\n",
              "    }\n",
              "    60% {\n",
              "      border-color: transparent;\n",
              "      border-right-color: var(--fill-color);\n",
              "    }\n",
              "    80% {\n",
              "      border-color: transparent;\n",
              "      border-right-color: var(--fill-color);\n",
              "      border-bottom-color: var(--fill-color);\n",
              "    }\n",
              "    90% {\n",
              "      border-color: transparent;\n",
              "      border-bottom-color: var(--fill-color);\n",
              "    }\n",
              "  }\n",
              "</style>\n",
              "\n",
              "      <script>\n",
              "        async function quickchart(key) {\n",
              "          const quickchartButtonEl =\n",
              "            document.querySelector('#' + key + ' button');\n",
              "          quickchartButtonEl.disabled = true;  // To prevent multiple clicks.\n",
              "          quickchartButtonEl.classList.add('colab-df-spinner');\n",
              "          try {\n",
              "            const charts = await google.colab.kernel.invokeFunction(\n",
              "                'suggestCharts', [key], {});\n",
              "          } catch (error) {\n",
              "            console.error('Error during call to suggestCharts:', error);\n",
              "          }\n",
              "          quickchartButtonEl.classList.remove('colab-df-spinner');\n",
              "          quickchartButtonEl.classList.add('colab-df-quickchart-complete');\n",
              "        }\n",
              "        (() => {\n",
              "          let quickchartButtonEl =\n",
              "            document.querySelector('#df-7187838b-b1d2-4456-8211-f80e0332b16e button');\n",
              "          quickchartButtonEl.style.display =\n",
              "            google.colab.kernel.accessAllowed ? 'block' : 'none';\n",
              "        })();\n",
              "      </script>\n",
              "    </div>\n",
              "\n",
              "    </div>\n",
              "  </div>\n"
            ],
            "application/vnd.google.colaboratory.intrinsic+json": {
              "type": "dataframe",
              "variable_name": "mall_data",
              "summary": "{\n  \"name\": \"mall_data\",\n  \"rows\": 80,\n  \"fields\": [\n    {\n      \"column\": \"Store_ID\",\n      \"properties\": {\n        \"dtype\": \"number\",\n        \"std\": 23,\n        \"min\": 1,\n        \"max\": 80,\n        \"num_unique_values\": 80,\n        \"samples\": [\n          31,\n          1,\n          23\n        ],\n        \"semantic_type\": \"\",\n        \"description\": \"\"\n      }\n    },\n    {\n      \"column\": \"Store_Type\",\n      \"properties\": {\n        \"dtype\": \"category\",\n        \"num_unique_values\": 6,\n        \"samples\": [\n          \"Kids\",\n          \"Entertainment\",\n          \"Clothing\"\n        ],\n        \"semantic_type\": \"\",\n        \"description\": \"\"\n      }\n    },\n    {\n      \"column\": \"Monthly_Revenue\",\n      \"properties\": {\n        \"dtype\": \"number\",\n        \"std\": 126521,\n        \"min\": 59268,\n        \"max\": 493852,\n        \"num_unique_values\": 80,\n        \"samples\": [\n          174375,\n          87065,\n          88044\n        ],\n        \"semantic_type\": \"\",\n        \"description\": \"\"\n      }\n    },\n    {\n      \"column\": \"Monthly_Footfall\",\n      \"properties\": {\n        \"dtype\": \"number\",\n        \"std\": 2552,\n        \"min\": 697,\n        \"max\": 9974,\n        \"num_unique_values\": 79,\n        \"samples\": [\n          4248,\n          7908,\n          7276\n        ],\n        \"semantic_type\": \"\",\n        \"description\": \"\"\n      }\n    },\n    {\n      \"column\": \"Avg_Purchase_Value\",\n      \"properties\": {\n        \"dtype\": \"number\",\n        \"std\": 740,\n        \"min\": 298,\n        \"max\": 2997,\n        \"num_unique_values\": 79,\n        \"samples\": [\n          2256,\n          1569,\n          823\n        ],\n        \"semantic_type\": \"\",\n        \"description\": \"\"\n      }\n    }\n  ]\n}"
            }
          },
          "metadata": {},
          "execution_count": 6
        }
      ]
    },
    {
      "cell_type": "code",
      "source": [
        "# Step 2: Feature Encoding\n",
        "# Convert 'Store_Type' to numerical encoding\n",
        "mall_data_encoded = pd.get_dummies(mall_data, columns=['Store_Type'])\n",
        "\n",
        "# Features to cluster on\n",
        "features = [\n",
        "    'Monthly_Revenue',\n",
        "    'Monthly_Footfall',\n",
        "    'Avg_Purchase_Value'\n",
        "] + [col for col in mall_data_encoded.columns if col.startswith('Store_Type_')]"
      ],
      "metadata": {
        "id": "ojLpoJqafpR8"
      },
      "execution_count": 7,
      "outputs": []
    },
    {
      "cell_type": "code",
      "source": [
        "# Step 3: Scaling\n",
        "scaler = StandardScaler()\n",
        "X_scaled = scaler.fit_transform(mall_data_encoded[features])\n"
      ],
      "metadata": {
        "id": "-MwYnNNgfsGs"
      },
      "execution_count": 8,
      "outputs": []
    },
    {
      "cell_type": "code",
      "source": [
        "# Step 4: Apply KMeans\n",
        "kmeans = KMeans(n_clusters=4, random_state=42)\n",
        "mall_data['Zone'] = kmeans.fit_predict(X_scaled)"
      ],
      "metadata": {
        "id": "koPaSQyPfwVE"
      },
      "execution_count": 9,
      "outputs": []
    },
    {
      "cell_type": "code",
      "source": [
        "# Step 5: Visualize Clusters\n",
        "plt.figure(figsize=(10, 7))\n",
        "sns.scatterplot(\n",
        "    x='Monthly_Footfall', y='Monthly_Revenue',\n",
        "    hue='Zone',\n",
        "    palette='tab10',\n",
        "    data=mall_data,\n",
        "    s=100\n",
        ")\n",
        "plt.title(' Mall Store Zoning via KMeans Clustering', fontsize=16)\n",
        "plt.xlabel('Monthly Footfall')\n",
        "plt.ylabel('Monthly Revenue')\n",
        "plt.legend(title='Zone')\n",
        "plt.grid(True)\n",
        "plt.show()"
      ],
      "metadata": {
        "colab": {
          "base_uri": "https://localhost:8080/",
          "height": 643
        },
        "id": "d0FDraF1f2lY",
        "outputId": "5bbc1e6f-10a6-4894-c113-faea9fc599f9"
      },
      "execution_count": 12,
      "outputs": [
        {
          "output_type": "display_data",
          "data": {
            "text/plain": [
              "<Figure size 1000x700 with 1 Axes>"
            ],
            "image/png": "[encoded data removed]"
          },
          "metadata": {}
        }
      ]
    },
    {
      "cell_type": "code",
      "source": [
        "# Step 6: Zone-wise Summary\n",
        "zone_summary = mall_data.groupby('Zone').agg({\n",
        "    'Store_ID': 'count',\n",
        "    'Monthly_Revenue': 'mean',\n",
        "    'Monthly_Footfall': 'mean',\n",
        "    'Avg_Purchase_Value': 'mean'\n",
        "}).rename(columns={'Store_ID': 'Number_of_Stores'})\n",
        "\n",
        "print(\"Zone Summary:\")\n",
        "print(zone_summary)"
      ],
      "metadata": {
        "colab": {
          "base_uri": "https://localhost:8080/"
        },
        "id": "KQgU6nZRgBaQ",
        "outputId": "1504923d-1cc1-4b7a-fde2-32fd45a87a5b"
      },
      "execution_count": 13,
      "outputs": [
        {
          "output_type": "stream",
          "name": "stdout",
          "text": [
            "Zone Summary:\n",
            "      Number_of_Stores  Monthly_Revenue  Monthly_Footfall  Avg_Purchase_Value\n",
            "Zone                                                                         \n",
            "0                   11    228362.818182       5439.181818         1489.090909\n",
            "1                   28    257832.928571       5484.321429         1653.000000\n",
            "2                   28    262930.000000       4952.785714         1667.250000\n",
            "3                   13    236909.076923       5396.076923         1591.307692\n"
          ]
        }
      ]
    },
    {
      "cell_type": "markdown",
      "source": [],
      "metadata": {
        "id": "mlrcWhqcR_sg"
      }
    }
  ]
}